{
 "cells": [
  {
   "cell_type": "code",
   "execution_count": 20,
   "metadata": {},
   "outputs": [
    {
     "name": "stdout",
     "output_type": "stream",
     "text": [
      "23 hours, 57 minutes, 6 seconds\n"
     ]
    }
   ],
   "source": [
    "from datetime import timedelta\n",
    "\n",
    "def subtract_seconds_from_time(time_string, seconds_to_subtract):\n",
    "    # Parse the input time string\n",
    "    time_units = {\"hours\": 0, \"minutes\": 0, \"seconds\": 0}\n",
    "    for unit in time_string.split(\",\"):\n",
    "        value, unit_name = unit.strip().split()\n",
    "        time_units[unit_name] = int(value)\n",
    "\n",
    "    # Convert the time to a timedelta object\n",
    "    time_delta = timedelta(**time_units)\n",
    "\n",
    "    # Subtract the given seconds\n",
    "    time_delta -= timedelta(seconds=seconds_to_subtract)\n",
    "\n",
    "    # Extract hours, minutes, and seconds from the result\n",
    "    hours, remainder = divmod(time_delta.seconds, 3600)\n",
    "    minutes, seconds = divmod(remainder, 60)\n",
    "\n",
    "    # Format the result as a string\n",
    "    result_string = f\"{hours} hours, {minutes} minutes, {seconds} seconds\"\n",
    "\n",
    "    return result_string\n",
    "\n",
    "# Example usage:\n",
    "input_time_string = \"0 hours, 56 minutes, 17 seconds\"\n",
    "seconds_to_subtract = 3550.7229\n",
    "\n",
    "result = subtract_seconds_from_time(input_time_string, seconds_to_subtract)\n",
    "print(result)"
   ]
  }
 ],
 "metadata": {
  "kernelspec": {
   "display_name": "Python 3.12.0 64-bit",
   "language": "python",
   "name": "python3"
  },
  "language_info": {
   "codemirror_mode": {
    "name": "ipython",
    "version": 3
   },
   "file_extension": ".py",
   "mimetype": "text/x-python",
   "name": "python",
   "nbconvert_exporter": "python",
   "pygments_lexer": "ipython3",
   "version": "3.12.0"
  },
  "orig_nbformat": 4,
  "vscode": {
   "interpreter": {
    "hash": "5c9d8f520513ff34e9abd8f5f2543f7fe95ce4f0378107956fcd298e131ebdc3"
   }
  }
 },
 "nbformat": 4,
 "nbformat_minor": 2
}
